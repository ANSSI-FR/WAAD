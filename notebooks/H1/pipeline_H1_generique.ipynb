{
 "cells": [
  {
   "cell_type": "code",
   "execution_count": null,
   "metadata": {},
   "outputs": [],
   "source": [
    "%load_ext autoreload\n",
    "%autoreload 2\n",
    "%matplotlib"
   ]
  },
  {
   "cell_type": "code",
   "execution_count": null,
   "metadata": {},
   "outputs": [],
   "source": [
    "import warnings\n",
    "warnings.filterwarnings('ignore')"
   ]
  },
  {
   "cell_type": "markdown",
   "metadata": {},
   "source": [
    "# Imports"
   ]
  },
  {
   "cell_type": "code",
   "execution_count": null,
   "metadata": {},
   "outputs": [],
   "source": [
    "import numpy as np\n",
    "import pandas as pd\n",
    "import time\n",
    "from tqdm import tqdm"
   ]
  },
  {
   "cell_type": "code",
   "execution_count": null,
   "metadata": {},
   "outputs": [],
   "source": [
    "from waad.heuristics.H1.ip_clustering import IPClustering\n",
    "from waad.heuristics.H1.ip_processing import IPProcessing\n",
    "\n",
    "from waad.utils.anomalous_asset import ComputeAnomalousAssets\n",
    "from waad.utils.asset import IP, Machine\n",
    "from waad.utils.data import Data\n",
    "from waad.utils.fait_notable import ComputeFaitNotablesFromIndicators, ComputeFaitNotablesFromRareIPv6, ComputeFaitNotablesFromAnalystTuplesAnalysers, FaitNotable\n",
    "from waad.utils.indicators import ComputeIndicators, Indicators\n",
    "from waad.utils.kmeans_clustering import KmeansClustering\n",
    "from waad.utils.postgreSQL_utils import Database, Table\n",
    "from waad.utils.rule import Link, Probability, Relation, Rule\n",
    "from waad.utils.tuples_analyser import AnalystTuplesAnalyser"
   ]
  },
  {
   "cell_type": "markdown",
   "metadata": {},
   "source": [
    "# Pipeline"
   ]
  },
  {
   "cell_type": "markdown",
   "metadata": {},
   "source": [
    "### Variables"
   ]
  },
  {
   "cell_type": "code",
   "execution_count": null,
   "metadata": {},
   "outputs": [],
   "source": [
    "faits_notables = []"
   ]
  },
  {
   "cell_type": "markdown",
   "metadata": {},
   "source": [
    "### Load IP addresses"
   ]
  },
  {
   "cell_type": "code",
   "execution_count": null,
   "metadata": {},
   "outputs": [],
   "source": [
    "HOST = '127.0.0.1' \n",
    "PORT = '5432'\n",
    "USER = ''   # To fill\n",
    "PASSWORD = ''   # To fill\n",
    "DB_NAME = ''   # To fill\n",
    "TABLE_NAME = ''  # To fill"
   ]
  },
  {
   "cell_type": "code",
   "execution_count": null,
   "metadata": {},
   "outputs": [],
   "source": [
    "db = Database(HOST, PORT, USER, PASSWORD, DB_NAME)\n",
    "table = Table(db, TABLE_NAME)\n",
    "\n",
    "ips = table.get_command(f\"SELECT DISTINCT ipaddress FROM {table.table_name};\")['ipaddress'].values"
   ]
  },
  {
   "cell_type": "markdown",
   "metadata": {},
   "source": [
    "### 0.1"
   ]
  },
  {
   "cell_type": "code",
   "execution_count": null,
   "metadata": {},
   "outputs": [],
   "source": [
    "ipp = IPProcessing(ips=ips)\n",
    "ipp.run()"
   ]
  },
  {
   "cell_type": "markdown",
   "metadata": {},
   "source": [
    "### 0.3.1"
   ]
  },
  {
   "cell_type": "code",
   "execution_count": null,
   "metadata": {},
   "outputs": [],
   "source": [
    "public_ips = ipp.public_ipv4s + ipp.public_ipv6s"
   ]
  },
  {
   "cell_type": "markdown",
   "metadata": {},
   "source": [
    "### 0.3.2"
   ]
  },
  {
   "cell_type": "code",
   "execution_count": null,
   "metadata": {},
   "outputs": [],
   "source": [
    "private_ips = ipp.private_ipv4s + ipp.private_ipv6s"
   ]
  },
  {
   "cell_type": "markdown",
   "metadata": {},
   "source": [
    "### 0.2 & 0.4"
   ]
  },
  {
   "cell_type": "code",
   "execution_count": null,
   "metadata": {},
   "outputs": [],
   "source": [
    "cfnfripv6 = ComputeFaitNotablesFromRareIPv6(ipp.ipv6s, ipp.ipv4s)\n",
    "cfnfripv6.run()\n",
    "faits_notables.extend(cfnfripv6.faits_notables)"
   ]
  },
  {
   "cell_type": "markdown",
   "metadata": {},
   "source": [
    "---------------"
   ]
  },
  {
   "cell_type": "markdown",
   "metadata": {},
   "source": [
    "### 1.1.1"
   ]
  },
  {
   "cell_type": "markdown",
   "metadata": {},
   "source": [
    "* On cherche à identifier s'il existe un sous-réseau d'adresses publiques communiquant avec les machines du parc"
   ]
  },
  {
   "cell_type": "code",
   "execution_count": null,
   "metadata": {},
   "outputs": [],
   "source": [
    "public_ipc = IPClustering(ipp.public_ipv4s, min_samples=3)\n",
    "public_ipc.run()\n",
    "public_ipc.plot_clusters()"
   ]
  },
  {
   "cell_type": "markdown",
   "metadata": {},
   "source": [
    "* Requete toutes les IP publiques et calcule des tables de résumé"
   ]
  },
  {
   "cell_type": "code",
   "execution_count": null,
   "metadata": {},
   "outputs": [],
   "source": [
    "public_ips_summary = {}\n",
    "public_ips_4624_summary = {}\n",
    "public_ips_4624_authentications = {}\n",
    "\n",
    "for ip in tqdm(public_ips):\n",
    "#     public_ip_authentications = table.get_field_filtered_on_value('IpAddress', 'pub_' + ip.exploded)\n",
    "    public_ip_authentications = table.get_field_filtered_on_value('IpAddress', ip.exploded)\n",
    "    public_ips_summary[ip.exploded] = Data.compute_window_summary(public_ip_authentications)\n",
    "\n",
    "    if ip.exploded in public_ipc.clusters[None]:\n",
    "        authentications_4624 = Data.filter_dataframe_field_on_value(public_ip_authentications, 'eventid', 4624)\n",
    "        if authentications_4624.shape[0] != 0:\n",
    "            public_ips_4624_authentications[ip.exploded] = authentications_4624\n",
    "            public_ips_4624_summary[ip.exploded] = Data.compute_window_summary(authentications_4624)\n",
    "\n",
    "public_ips_summary = pd.DataFrame(public_ips_summary).T\n",
    "public_ips_4624_summary = pd.DataFrame(public_ips_4624_summary).T"
   ]
  },
  {
   "cell_type": "code",
   "execution_count": null,
   "metadata": {},
   "outputs": [],
   "source": [
    "public_ips_4624_summary"
   ]
  },
  {
   "cell_type": "markdown",
   "metadata": {},
   "source": [
    "Dans la partie suivante, on applique l'heuristique décrite par l'analyste dans son document, c'est à dire l'analyse sur les regroupements d'événements rares uniquement sur les 4624."
   ]
  },
  {
   "cell_type": "markdown",
   "metadata": {},
   "source": [
    "### 1.1.2"
   ]
  },
  {
   "cell_type": "code",
   "execution_count": null,
   "metadata": {},
   "outputs": [],
   "source": [
    "tuples_analysers = {}\n",
    "\n",
    "for ip in tqdm(public_ips_4624_summary.index):\n",
    "    ata = AnalystTuplesAnalyser(public_ips_4624_authentications[ip], exploratory_fields=['computertype', 'authenticationpackagename', 'logonprocessname', 'workstationname', 'logontype', 'processname', 'host'])\n",
    "    ata.run()\n",
    "    tuples_analysers[IP(ip)] = ata"
   ]
  },
  {
   "cell_type": "code",
   "execution_count": null,
   "metadata": {},
   "outputs": [],
   "source": [
    "cfnfta = ComputeFaitNotablesFromAnalystTuplesAnalysers(tuples_analysers=tuples_analysers)\n",
    "cfnfta.run()\n",
    "faits_notables.extend(cfnfta.faits_notables)"
   ]
  },
  {
   "cell_type": "markdown",
   "metadata": {},
   "source": [
    "Si des groupes d'événements rares sont repérés parmi les IP, on les considère comme faits notables"
   ]
  },
  {
   "cell_type": "markdown",
   "metadata": {},
   "source": [
    "-----------------------"
   ]
  },
  {
   "cell_type": "markdown",
   "metadata": {},
   "source": [
    "### 1.2"
   ]
  },
  {
   "cell_type": "markdown",
   "metadata": {},
   "source": [
    "#### 1.2.1"
   ]
  },
  {
   "cell_type": "markdown",
   "metadata": {},
   "source": [
    "Look for abnormal behavior of a private IP (which could be an entry point or a transit point for an attacker)"
   ]
  },
  {
   "cell_type": "markdown",
   "metadata": {},
   "source": [
    "* Retrieve all private IP data and compute a summary table out of this. Also compute 3 interesting indicators over time (`nb_computers_reached`, `nb_authentications` and `nb_new_computers`) "
   ]
  },
  {
   "cell_type": "code",
   "execution_count": null,
   "metadata": {},
   "outputs": [],
   "source": [
    "rule = Rule(\n",
    "    relation=Relation(link=Link.SE_CONNECTE_SUR, probability=Probability.CERTAIN),\n",
    "    conditions=[\n",
    "        {\n",
    "            'pre_filters': {'eventid': 4624},\n",
    "            'filter_function': lambda row: row['ipaddress'].startswith('priv_') and row['host'] != '?',\n",
    "            'asset_1': lambda row: IP(row['ipaddress']),\n",
    "            'asset_2': lambda row: Machine(name=row['host'].split('.')[0], domain=row['host'].split('.')[1]),\n",
    "        }\n",
    "    ]\n",
    ")"
   ]
  },
  {
   "cell_type": "code",
   "execution_count": null,
   "metadata": {},
   "outputs": [],
   "source": [
    "start = time.time()\n",
    "ci = ComputeIndicators(table=table, rule=rule, indicator_objects=[Indicators.NB_AUTHENTICATIONS.value, Indicators.NB_ASSETS_REACHED.value, Indicators.NB_NEW_ASSETS_REACHED.value])\n",
    "ci.run()\n",
    "print(time.time() - start)"
   ]
  },
  {
   "cell_type": "markdown",
   "metadata": {},
   "source": [
    "#### 1.2.2"
   ]
  },
  {
   "cell_type": "code",
   "execution_count": null,
   "metadata": {},
   "outputs": [],
   "source": [
    "cfnfi = ComputeFaitNotablesFromIndicators(ci.indicators)\n",
    "cfnfi.run()\n",
    "faits_notables.extend(cfnfi.faits_notables)"
   ]
  },
  {
   "cell_type": "markdown",
   "metadata": {},
   "source": [
    "#### 1.2.3"
   ]
  },
  {
   "cell_type": "markdown",
   "metadata": {},
   "source": [
    "Look for abnormal names on private IPs (which could be directly the IP of an attacker). We apply a clustering to group IP by sub-networks in order to isolate outlier names."
   ]
  },
  {
   "cell_type": "code",
   "execution_count": null,
   "metadata": {},
   "outputs": [],
   "source": [
    "private_ipc = IPClustering(ipp.private_ipv4s)\n",
    "private_ipc.run()\n",
    "private_ipc.plot_clusters();"
   ]
  },
  {
   "cell_type": "markdown",
   "metadata": {},
   "source": [
    "### 2. Faits notables"
   ]
  },
  {
   "cell_type": "code",
   "execution_count": null,
   "metadata": {},
   "outputs": [],
   "source": [
    "caa = ComputeAnomalousAssets(faits_notables)\n",
    "caa.run()"
   ]
  },
  {
   "cell_type": "code",
   "execution_count": null,
   "metadata": {},
   "outputs": [],
   "source": [
    "caa.get_summary().head(20)"
   ]
  },
  {
   "cell_type": "code",
   "execution_count": null,
   "metadata": {},
   "outputs": [],
   "source": [
    "for aa in caa.anomalous_assets[:5]:\n",
    "    aa.display();"
   ]
  }
 ],
 "metadata": {
  "kernelspec": {
   "display_name": "Python 3",
   "language": "python",
   "name": "python3"
  },
  "language_info": {
   "codemirror_mode": {
    "name": "ipython",
    "version": 3
   },
   "file_extension": ".py",
   "mimetype": "text/x-python",
   "name": "python",
   "nbconvert_exporter": "python",
   "pygments_lexer": "ipython3",
   "version": "3.6.9"
  }
 },
 "nbformat": 4,
 "nbformat_minor": 4
}
