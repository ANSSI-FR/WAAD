{
 "cells": [
  {
   "cell_type": "code",
   "execution_count": null,
   "metadata": {},
   "outputs": [],
   "source": [
    "%load_ext autoreload\n",
    "%autoreload 2\n",
    "%matplotlib"
   ]
  },
  {
   "cell_type": "code",
   "execution_count": null,
   "metadata": {},
   "outputs": [],
   "source": [
    "import warnings\n",
    "warnings.filterwarnings('ignore')"
   ]
  },
  {
   "cell_type": "code",
   "execution_count": null,
   "metadata": {},
   "outputs": [],
   "source": [
    "import numpy as np\n",
    "import pandas as pd\n",
    "import time\n",
    "from tqdm import tqdm"
   ]
  },
  {
   "cell_type": "code",
   "execution_count": null,
   "metadata": {},
   "outputs": [],
   "source": [
    "pd.set_option('display.max_columns', 500)\n",
    "pd.set_option('display.max_colwidth', 150)\n",
    "pd.set_option('display.max_rows', 500)"
   ]
  },
  {
   "cell_type": "markdown",
   "metadata": {},
   "source": [
    "# Imports"
   ]
  },
  {
   "cell_type": "code",
   "execution_count": null,
   "metadata": {},
   "outputs": [],
   "source": [
    "from waad.heuristics.H1.ip_processing import IPProcessing\n",
    "\n",
    "from waad.utils.data import Data\n",
    "from waad.utils.kmeans_clustering import KmeansClustering\n",
    "from waad.utils.postgreSQL_utils import Database, Table"
   ]
  },
  {
   "cell_type": "markdown",
   "metadata": {},
   "source": [
    "# Pipeline"
   ]
  },
  {
   "cell_type": "markdown",
   "metadata": {},
   "source": [
    "### Load IP addresses"
   ]
  },
  {
   "cell_type": "code",
   "execution_count": null,
   "metadata": {},
   "outputs": [],
   "source": [
    "HOST = '127.0.0.1' \n",
    "PORT = '5432'\n",
    "USER = ''   # To fill\n",
    "PASSWORD = ''   # To fill\n",
    "DB_NAME = ''   # To fill\n",
    "TABLE_NAME = ''  # To fill"
   ]
  },
  {
   "cell_type": "code",
   "execution_count": null,
   "metadata": {},
   "outputs": [],
   "source": [
    "db = Database(HOST, PORT, USER, PASSWORD, DB_NAME)\n",
    "table = Table(db, TABLE_NAME)"
   ]
  },
  {
   "cell_type": "markdown",
   "metadata": {},
   "source": [
    "# KMeans"
   ]
  },
  {
   "cell_type": "code",
   "execution_count": null,
   "metadata": {},
   "outputs": [],
   "source": [
    "ips = table.get_command(f\"SELECT DISTINCT ipaddress FROM {table.table_name}\").ipaddress.values"
   ]
  },
  {
   "cell_type": "code",
   "execution_count": null,
   "metadata": {},
   "outputs": [],
   "source": [
    "ipp = IPProcessing(ips=ips)\n",
    "ipp.run()"
   ]
  },
  {
   "cell_type": "code",
   "execution_count": null,
   "metadata": {},
   "outputs": [],
   "source": [
    "public_ips_summary = {}\n",
    "\n",
    "for ip in tqdm(ipp.public_ipv4s + ipp.public_ipv6s):\n",
    "#     public_ip_authentications = table.get_field_filtered_on_value('IpAddress', 'pub_' + ip.exploded)\n",
    "    public_ip_authentications = table.get_field_filtered_on_value('IpAddress', ip.exploded)\n",
    "    public_ips_summary[ip.exploded] = Data.compute_window_summary(public_ip_authentications)\n",
    "\n",
    "public_ips_summary = pd.DataFrame(public_ips_summary).T"
   ]
  },
  {
   "cell_type": "code",
   "execution_count": null,
   "metadata": {},
   "outputs": [],
   "source": [
    "public_ips_summary['delta_seconds'] = public_ips_summary['delta'].apply(lambda x: x.total_seconds())  "
   ]
  },
  {
   "cell_type": "code",
   "execution_count": null,
   "metadata": {},
   "outputs": [],
   "source": [
    "kmc = KmeansClustering(public_ips_summary['delta_seconds'].values)\n",
    "kmc.run() "
   ]
  },
  {
   "cell_type": "code",
   "execution_count": null,
   "metadata": {},
   "outputs": [],
   "source": [
    "kmc.plot_silhouette_score()"
   ]
  },
  {
   "cell_type": "code",
   "execution_count": null,
   "metadata": {},
   "outputs": [],
   "source": [
    "kmc.plot_clusters() "
   ]
  },
  {
   "cell_type": "markdown",
   "metadata": {},
   "source": [
    "# Multiprocessing test on Cache building"
   ]
  },
  {
   "cell_type": "markdown",
   "metadata": {},
   "source": [
    "Reduces computations duration by at least 3 on my machine (4 cores - 8 threads Intel core i7) "
   ]
  },
  {
   "cell_type": "markdown",
   "metadata": {},
   "source": [
    "Use the next blocks to build cache after adtree in tuples big data notebook"
   ]
  },
  {
   "cell_type": "code",
   "execution_count": null,
   "metadata": {},
   "outputs": [],
   "source": [
    "from waad.utils.combinations_utils import custom_combinations_generator\n",
    "import multiprocessing as mp\n",
    "\n",
    "CACHE = {}\n",
    "\n",
    "def build_cache(comb):\n",
    "    contab = ContingencyTable([e + 1 for e in comb], adtree)\n",
    "    return comb, contab.get_table()\n",
    "\n",
    "def initialize_cache(adtree):\n",
    "    CACHE[1] = {}\n",
    "    for i in tqdm(range(len(META_FIELDS)), file=sys.stdout):\n",
    "        contab = ContingencyTable([i + 1], adtree)\n",
    "        CACHE[1][tuple([i])] = contab.get_table()\n",
    "\n",
    "def add_new_cache_layer():\n",
    "    import multiprocessing as mp\n",
    "\n",
    "    m = max(CACHE.keys())\n",
    "    CACHE[m + 1] = {}\n",
    "    \n",
    "    pool = mp.Pool(mp.cpu_count(), maxtasksperchild=50)\n",
    "    res = pool.map(build_cache, custom_combinations_generator(list(range(len(META_FIELDS))), length=m + 1))\n",
    "    pool.close()\n",
    "\n",
    "    for comb, contab in res:\n",
    "        CACHE[m + 1][comb] = contab"
   ]
  },
  {
   "cell_type": "code",
   "execution_count": null,
   "metadata": {},
   "outputs": [],
   "source": [
    "start = time.time()\n",
    "initialize_cache(adtree)\n",
    "\n",
    "for k in range(2, MAX_LAYER + 1):\n",
    "    print(f\"Build cache layer {k}\")\n",
    "    add_new_cache_layer()\n",
    "print(time.time() - start)"
   ]
  },
  {
   "cell_type": "markdown",
   "metadata": {},
   "source": [
    "## Koalas"
   ]
  },
  {
   "cell_type": "markdown",
   "metadata": {},
   "source": [
    "```\n",
    "$ pip install pyspark\n",
    "$ pip install koalas\n",
    "```"
   ]
  },
  {
   "cell_type": "code",
   "execution_count": null,
   "metadata": {},
   "outputs": [],
   "source": [
    "import databricks.koalas as ks\n",
    "import os\n",
    "from waad.utils.combinations_utils import flatten"
   ]
  },
  {
   "cell_type": "code",
   "execution_count": null,
   "metadata": {},
   "outputs": [],
   "source": [
    "# Set option to 'distributed' computation\n",
    "ks.set_option('compute.default_index_type', 'distributed')"
   ]
  },
  {
   "cell_type": "code",
   "execution_count": null,
   "metadata": {},
   "outputs": [],
   "source": [
    "start = time.time()\n",
    "# Path to the folder with all csvs\n",
    "PATH = '/waad/data/dataset_suite/'\n",
    "data = ks.concat([ks.read_csv(PATH + csv) for csv in os.listdir(PATH)])\n",
    "print(time.time() - start)"
   ]
  },
  {
   "cell_type": "markdown",
   "metadata": {},
   "source": [
    "Experience lazy operations"
   ]
  },
  {
   "cell_type": "code",
   "execution_count": null,
   "metadata": {},
   "outputs": [],
   "source": [
    "data.replace({None: '?'}, inplace=True)"
   ]
  },
  {
   "cell_type": "code",
   "execution_count": null,
   "metadata": {},
   "outputs": [],
   "source": [
    "META_FIELDS = [('SubjectUserSid', 'SubjectUserName', 'SubjectDomainName'),\n",
    " ('TargetUserSid', 'TargetUserName', 'TargetDomainName'),\n",
    " ('TargetServerName', 'TargetInfo'),\n",
    " ('FailureReason', 'Status', 'SubStatus'),\n",
    " 'LogonType',\n",
    " 'EventID',\n",
    " 'IpAddress',\n",
    " 'LogonProcessName',\n",
    " ('AuthenticationPackageName', 'LmPackageName'),\n",
    " 'WorkstationName',\n",
    " 'Host'\n",
    "]"
   ]
  },
  {
   "cell_type": "code",
   "execution_count": null,
   "metadata": {},
   "outputs": [],
   "source": [
    "cut = data[data['EventID'] == 4624][flatten(META_FIELDS)]"
   ]
  },
  {
   "cell_type": "code",
   "execution_count": null,
   "metadata": {},
   "outputs": [],
   "source": [
    "cut.head(10)"
   ]
  },
  {
   "cell_type": "markdown",
   "metadata": {},
   "source": [
    "Define `Rule` to study"
   ]
  },
  {
   "cell_type": "code",
   "execution_count": null,
   "metadata": {},
   "outputs": [],
   "source": [
    "from waad.utils.asset import Account, Machine\n",
    "from waad.utils.rule import Link, Probability, Relation, Rule"
   ]
  },
  {
   "cell_type": "code",
   "execution_count": null,
   "metadata": {},
   "outputs": [],
   "source": [
    "rule = Rule(\n",
    "    relation=Relation(link=Link.SE_CONNECTE_SUR, probability=Probability.CERTAIN),\n",
    "    conditions=[\n",
    "        {\n",
    "            'pre_filters': {'eventid': 4624},\n",
    "            'filter_function': lambda row: row['EventID'] == '4624' and row['TargetUserSid'].startswith('S-1-5-21-') and row['Host'] != '?',\n",
    "            'asset_1': lambda row: Account(sid=row['TargetUserSid']),\n",
    "            'asset_2': lambda row: Machine(name=row['Host'].split('.')[0], domain=row['Host'].split('.')[1]),\n",
    "        }\n",
    "    ]\n",
    ")"
   ]
  },
  {
   "cell_type": "markdown",
   "metadata": {},
   "source": [
    "#### Intent to fill a global variable via a .apply()"
   ]
  },
  {
   "cell_type": "code",
   "execution_count": null,
   "metadata": {},
   "outputs": [],
   "source": [
    "CACHE = []"
   ]
  },
  {
   "cell_type": "code",
   "execution_count": null,
   "metadata": {},
   "outputs": [],
   "source": [
    "def f(row) -> int:\n",
    "    CACHE.append(row['SystemTime'])\n",
    "    return 0"
   ]
  },
  {
   "cell_type": "code",
   "execution_count": null,
   "metadata": {},
   "outputs": [],
   "source": [
    "res = data.apply(f, axis=1);"
   ]
  },
  {
   "cell_type": "code",
   "execution_count": null,
   "metadata": {},
   "outputs": [],
   "source": [
    "res.head(100);"
   ]
  },
  {
   "cell_type": "code",
   "execution_count": null,
   "metadata": {},
   "outputs": [],
   "source": [
    "CACHE"
   ]
  },
  {
   "cell_type": "markdown",
   "metadata": {},
   "source": [
    "Cache is not updated because it is impossible to have a side effect on variables with koalas / pyspark --> limitation"
   ]
  },
  {
   "cell_type": "markdown",
   "metadata": {},
   "source": [
    "#### Get another column via a .apply()"
   ]
  },
  {
   "cell_type": "code",
   "execution_count": null,
   "metadata": {},
   "outputs": [],
   "source": [
    "def f(row):\n",
    "    condition = rule.conditions[0]\n",
    "    if condition['filter_function'](row):\n",
    "        asset_1 = condition['asset_1'](row)\n",
    "        asset_2 = condition['asset_2'](row)\n",
    "        return [str(asset_1), row['SystemTime'], str(asset_2)]"
   ]
  },
  {
   "cell_type": "markdown",
   "metadata": {},
   "source": [
    "impossible to use custom objects in koalas..."
   ]
  },
  {
   "cell_type": "code",
   "execution_count": null,
   "metadata": {},
   "outputs": [],
   "source": [
    "res = data.apply(f, axis=1)"
   ]
  },
  {
   "cell_type": "markdown",
   "metadata": {},
   "source": [
    "Unfortunately impossible to split directly the result of f() into 3 columns like in pandas so additional computation of r"
   ]
  },
  {
   "cell_type": "code",
   "execution_count": null,
   "metadata": {},
   "outputs": [],
   "source": [
    "r = ks.DataFrame(res[res.notnull()].values.tolist(), columns=['asset_1', 'systemtime', 'asset_2'])"
   ]
  },
  {
   "cell_type": "code",
   "execution_count": null,
   "metadata": {},
   "outputs": [],
   "source": [
    "t = r.groupby(by='asset_1')"
   ]
  },
  {
   "cell_type": "code",
   "execution_count": null,
   "metadata": {
    "jupyter": {
     "outputs_hidden": true
    }
   },
   "outputs": [],
   "source": [
    "t.get_group('None - None - S-1-5-21-93088677042eb579-e1f7ccce2a1dcc00')"
   ]
  },
  {
   "cell_type": "code",
   "execution_count": null,
   "metadata": {},
   "outputs": [],
   "source": [
    "t.apply(lambda x: ComputeIndicators.compute_indicators_over_time2(pd.DataFrame(x), indicators=[Indicators.NB_AUTHENTICATIONS.value]))"
   ]
  },
  {
   "cell_type": "markdown",
   "metadata": {},
   "source": [
    "Bug because impossible to use custom objects in koalas...\n",
    "--> Not useable right now, need more mature development ? Or serialization of all custom objects ?  "
   ]
  },
  {
   "cell_type": "code",
   "execution_count": null,
   "metadata": {},
   "outputs": [],
   "source": []
  }
 ],
 "metadata": {
  "kernelspec": {
   "display_name": "Python 3",
   "language": "python",
   "name": "python3"
  },
  "language_info": {
   "codemirror_mode": {
    "name": "ipython",
    "version": 3
   },
   "file_extension": ".py",
   "mimetype": "text/x-python",
   "name": "python",
   "nbconvert_exporter": "python",
   "pygments_lexer": "ipython3",
   "version": "3.6.9"
  }
 },
 "nbformat": 4,
 "nbformat_minor": 4
}
