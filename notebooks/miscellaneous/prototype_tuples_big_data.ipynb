{
 "cells": [
  {
   "cell_type": "code",
   "execution_count": 1,
   "metadata": {},
   "outputs": [],
   "source": [
    "%load_ext autoreload\n",
    "%autoreload 2"
   ]
  },
  {
   "cell_type": "code",
   "execution_count": 2,
   "metadata": {},
   "outputs": [],
   "source": [
    "import warnings\n",
    "warnings.filterwarnings('ignore')"
   ]
  },
  {
   "cell_type": "markdown",
   "metadata": {},
   "source": [
    "# Imports"
   ]
  },
  {
   "cell_type": "code",
   "execution_count": 3,
   "metadata": {},
   "outputs": [],
   "source": [
    "import math\n",
    "import matplotlib.pyplot as plt\n",
    "import numpy as np\n",
    "import pandas as pd\n",
    "import sys\n",
    "import time\n",
    "from tqdm import tqdm"
   ]
  },
  {
   "cell_type": "code",
   "execution_count": 4,
   "metadata": {},
   "outputs": [],
   "source": [
    "pd.set_option('display.max_columns', 500)\n",
    "pd.set_option('display.max_colwidth', 150)\n",
    "pd.set_option('display.max_rows', 500)"
   ]
  },
  {
   "cell_type": "code",
   "execution_count": 5,
   "metadata": {},
   "outputs": [],
   "source": [
    "from waad.utils.tuples_analyser import AnalystTuplesAnalyser\n",
    "from waad.utils.constants import TupleAnalysisFields\n",
    "from waad.utils.data import Data\n",
    "from waad.utils.combinations_utils import flatten\n",
    "from waad.utils.postgreSQL_utils import Database, Table\n",
    "from waad.utils.tuples_big_data import Cache, ComputeMutualInfoOnGivenLevel, ComputeScoreOnGivenLevel"
   ]
  },
  {
   "cell_type": "code",
   "execution_count": 6,
   "metadata": {},
   "outputs": [],
   "source": [
    "from ad_tree.array_record import ArrayRecord\n",
    "from ad_tree.sparse_ADTree import ADNode\n",
    "from ad_tree.iterated_tree_contingency_table import ContingencyTable"
   ]
  },
  {
   "cell_type": "markdown",
   "metadata": {},
   "source": [
    "# Load data"
   ]
  },
  {
   "cell_type": "markdown",
   "metadata": {},
   "source": [
    "### Prepare database"
   ]
  },
  {
   "cell_type": "code",
   "execution_count": 7,
   "metadata": {},
   "outputs": [],
   "source": [
    "HOST = '127.0.0.1' \n",
    "PORT = '5432'\n",
    "USER = ''   # To fill\n",
    "PASSWORD = ''   # To fill\n",
    "DB_NAME = ''   # To fill\n",
    "TABLE_NAME = ''  # To fill"
   ]
  },
  {
   "cell_type": "code",
   "execution_count": 8,
   "metadata": {},
   "outputs": [],
   "source": [
    "db = Database(HOST, PORT, USER, PASSWORD, DB_NAME)\n",
    "table = Table(db, TABLE_NAME)"
   ]
  },
  {
   "cell_type": "code",
   "execution_count": 9,
   "metadata": {},
   "outputs": [],
   "source": [
    "# Comment and uncomment the meta_fields you want to use\n",
    "\n",
    "META_FIELDS = [('subjectusersid', 'subjectusername', 'subjectdomainname'),\n",
    " ('targetusersid', 'targetusername', 'targetdomainname'),\n",
    " ('targetservername', 'targetinfo'),\n",
    " ('failurereason', 'status', 'substatus'),\n",
    " 'logontype',\n",
    " 'eventid',\n",
    " 'ipaddress',\n",
    " 'logonprocessname',\n",
    " ('authenticationpackagename', 'lmpackagename'),\n",
    " 'workstationname',\n",
    " 'host'\n",
    "]"
   ]
  },
  {
   "cell_type": "markdown",
   "metadata": {},
   "source": [
    "### Example of request"
   ]
  },
  {
   "cell_type": "code",
   "execution_count": 10,
   "metadata": {},
   "outputs": [],
   "source": [
    "number_lines = 2500000\n",
    "data = table.get_command(f\"SELECT {', '.join(['eventrecordid', 'systemtime'] + flatten(META_FIELDS))} FROM {table.table_name} WHERE eventid = 4624 FETCH FIRST {number_lines} ROWS ONLY;\")"
   ]
  },
  {
   "cell_type": "markdown",
   "metadata": {},
   "source": [
    "### Filtering bloc"
   ]
  },
  {
   "cell_type": "code",
   "execution_count": 11,
   "metadata": {},
   "outputs": [],
   "source": [
    "# data = Data.filter_dataframe_field_on_value(data, 'logontype', 3)"
   ]
  },
  {
   "cell_type": "markdown",
   "metadata": {},
   "source": [
    "### Pre-processing"
   ]
  },
  {
   "cell_type": "code",
   "execution_count": 12,
   "metadata": {},
   "outputs": [],
   "source": [
    "N = data.shape[0]"
   ]
  },
  {
   "cell_type": "markdown",
   "metadata": {},
   "source": [
    "**Build meta fields**"
   ]
  },
  {
   "cell_type": "code",
   "execution_count": 13,
   "metadata": {},
   "outputs": [],
   "source": [
    "Data.build_meta_fields(data, META_FIELDS)"
   ]
  },
  {
   "cell_type": "markdown",
   "metadata": {},
   "source": [
    "**Convert to categorical**\n",
    "\n",
    "If we have data to 'categorise', an additional dictionnary parameter is needed : \n",
    "\n",
    "```\n",
    "{\n",
    " 'trade_usd': [0, 100000, 1000000, 10000000, 100000000, 1000000000, 10000000000, 100000000000, 1000000000000, 10000000000000], \n",
    " 'weight_kg': [0, 100000, 1000000, 10000000, 100000000, 1000000000, 10000000000, 100000000000, 1000000000000, 10000000000000]\n",
    "}\n",
    "```\n",
    "It contains the different bins that we want to define on the columns to categorize."
   ]
  },
  {
   "cell_type": "code",
   "execution_count": 14,
   "metadata": {},
   "outputs": [],
   "source": [
    "converter = Data.set_as_categorical(data, META_FIELDS)"
   ]
  },
  {
   "cell_type": "markdown",
   "metadata": {},
   "source": [
    "**Get records table in categorial format**"
   ]
  },
  {
   "cell_type": "code",
   "execution_count": 15,
   "metadata": {},
   "outputs": [],
   "source": [
    "records_table = np.transpose([data[field].cat.codes for field in META_FIELDS]).tolist()"
   ]
  },
  {
   "cell_type": "markdown",
   "metadata": {},
   "source": [
    "**Get arity list**"
   ]
  },
  {
   "cell_type": "code",
   "execution_count": 16,
   "metadata": {},
   "outputs": [],
   "source": [
    "arity_list = [len(dict(enumerate(data[f].cat.categories))) for f in META_FIELDS]"
   ]
  },
  {
   "cell_type": "code",
   "execution_count": 17,
   "metadata": {},
   "outputs": [],
   "source": [
    "# del data\n",
    "\n",
    "# import gc\n",
    "# gc.collect()"
   ]
  },
  {
   "cell_type": "markdown",
   "metadata": {},
   "source": [
    "# AD Tree pipeline"
   ]
  },
  {
   "cell_type": "markdown",
   "metadata": {},
   "source": [
    "### Building ADTree"
   ]
  },
  {
   "cell_type": "code",
   "execution_count": null,
   "metadata": {},
   "outputs": [],
   "source": [
    "start = time.time()\n",
    "\n",
    "array_record = ArrayRecord(arity_list, records_table)\n",
    "\n",
    "# build an AD-Tree with attribute list starts from the first attribute and for all the records\n",
    "adtree = ADNode(1, record_nums=list(range(1, array_record.records_length + 1)), array_record=array_record)\n",
    "\n",
    "print(time.time() - start)"
   ]
  },
  {
   "cell_type": "markdown",
   "metadata": {},
   "source": [
    "### Build cache"
   ]
  },
  {
   "cell_type": "code",
   "execution_count": 19,
   "metadata": {},
   "outputs": [],
   "source": [
    "CACHE = {}"
   ]
  },
  {
   "cell_type": "code",
   "execution_count": 20,
   "metadata": {},
   "outputs": [],
   "source": [
    "MAX_LAYER = 4"
   ]
  },
  {
   "cell_type": "code",
   "execution_count": null,
   "metadata": {},
   "outputs": [],
   "source": [
    "cache = Cache(adtree, META_FIELDS, MAX_LAYER)\n",
    "cache.run()"
   ]
  },
  {
   "cell_type": "markdown",
   "metadata": {},
   "source": [
    "### Compute mutual information"
   ]
  },
  {
   "cell_type": "code",
   "execution_count": 22,
   "metadata": {},
   "outputs": [],
   "source": [
    "LEVEL_OF_INTEREST = 2"
   ]
  },
  {
   "cell_type": "code",
   "execution_count": 23,
   "metadata": {},
   "outputs": [],
   "source": [
    "cmiogl = ComputeMutualInfoOnGivenLevel(cache, LEVEL_OF_INTEREST)\n",
    "cmiogl.run()"
   ]
  },
  {
   "cell_type": "code",
   "execution_count": 24,
   "metadata": {},
   "outputs": [],
   "source": [
    "index_elbow = cmiogl.compute_index_elbow()\n",
    "mu = cmiogl.get_mu(index_elbow)"
   ]
  },
  {
   "cell_type": "code",
   "execution_count": null,
   "metadata": {},
   "outputs": [],
   "source": [
    "cmiogl.plot_mutual_info(index_elbow=index_elbow);"
   ]
  },
  {
   "cell_type": "code",
   "execution_count": 26,
   "metadata": {},
   "outputs": [],
   "source": [
    "MU = 0.1\n",
    "\n",
    "pairings_to_keep = cmiogl.get_pairings_to_keep(MU)"
   ]
  },
  {
   "cell_type": "code",
   "execution_count": null,
   "metadata": {},
   "outputs": [],
   "source": [
    "cmiogl.get_last_n_eliminated(mu=MU, last_n=5, converter=converter)"
   ]
  },
  {
   "cell_type": "markdown",
   "metadata": {},
   "source": [
    "### Scores computation "
   ]
  },
  {
   "cell_type": "code",
   "execution_count": 28,
   "metadata": {},
   "outputs": [],
   "source": [
    "T_ALPHA = 20"
   ]
  },
  {
   "cell_type": "code",
   "execution_count": 29,
   "metadata": {},
   "outputs": [],
   "source": [
    "csogl = ComputeScoreOnGivenLevel(cache, LEVEL_OF_INTEREST, T_ALPHA, pairings_to_keep)\n",
    "csogl.run()"
   ]
  },
  {
   "cell_type": "markdown",
   "metadata": {},
   "source": [
    "### Scores visualization"
   ]
  },
  {
   "cell_type": "code",
   "execution_count": null,
   "metadata": {},
   "outputs": [],
   "source": [
    "csogl.get_firsts_abnormal_pairings(firsts_n=30, converter=converter)"
   ]
  },
  {
   "cell_type": "code",
   "execution_count": 31,
   "metadata": {},
   "outputs": [],
   "source": [
    "csogl.save_firsts_abnormal_pairings(firsts_n=500, converter=converter, path='./firsts_abnormal_pairings.csv', min_card=5)"
   ]
  },
  {
   "cell_type": "markdown",
   "metadata": {},
   "source": [
    "### Additional qualification"
   ]
  },
  {
   "cell_type": "markdown",
   "metadata": {},
   "source": [
    "#### Most frequent subpairings"
   ]
  },
  {
   "cell_type": "code",
   "execution_count": null,
   "metadata": {},
   "outputs": [],
   "source": [
    "csogl.display_most_frequents_subpairings(index_number=1, firsts_n=20, converter=converter)"
   ]
  },
  {
   "cell_type": "markdown",
   "metadata": {},
   "source": [
    "#### AnalystTuplesAnalyser"
   ]
  },
  {
   "cell_type": "code",
   "execution_count": null,
   "metadata": {},
   "outputs": [],
   "source": [
    "ata = AnalystTuplesAnalyser(csogl.get_corresponding_authentications(data, index_number=8, converter=converter), exploratory_fields=META_FIELDS)\n",
    "ata.run()\n",
    "if ata.candidate is not None:\n",
    "    ata.candidate.display_centered_summary()\n",
    "else:\n",
    "    print(\"No candidate found with AnalystTuplesAnalyser for those parameters\")"
   ]
  }
 ],
 "metadata": {
  "kernelspec": {
   "display_name": "Python 3",
   "language": "python",
   "name": "python3"
  },
  "language_info": {
   "codemirror_mode": {
    "name": "ipython",
    "version": 3
   },
   "file_extension": ".py",
   "mimetype": "text/x-python",
   "name": "python",
   "nbconvert_exporter": "python",
   "pygments_lexer": "ipython3",
   "version": "3.8.5"
  }
 },
 "nbformat": 4,
 "nbformat_minor": 4
}
