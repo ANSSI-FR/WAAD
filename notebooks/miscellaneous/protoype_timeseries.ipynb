{
 "cells": [
  {
   "cell_type": "code",
   "execution_count": 1,
   "metadata": {},
   "outputs": [
    {
     "name": "stdout",
     "output_type": "stream",
     "text": [
      "Using matplotlib backend: agg\n"
     ]
    }
   ],
   "source": [
    "%load_ext autoreload\n",
    "%autoreload 2\n",
    "%matplotlib"
   ]
  },
  {
   "cell_type": "code",
   "execution_count": 2,
   "metadata": {},
   "outputs": [],
   "source": [
    "import warnings\n",
    "warnings.filterwarnings('ignore')"
   ]
  },
  {
   "cell_type": "markdown",
   "metadata": {},
   "source": [
    "# Imports"
   ]
  },
  {
   "cell_type": "code",
   "execution_count": 3,
   "metadata": {},
   "outputs": [],
   "source": [
    "import pandas as pd\n",
    "import time"
   ]
  },
  {
   "cell_type": "code",
   "execution_count": 4,
   "metadata": {},
   "outputs": [],
   "source": [
    "pd.set_option('display.max_columns', 500)\n",
    "pd.set_option('display.max_colwidth', 150)\n",
    "pd.set_option('display.max_rows', 500)"
   ]
  },
  {
   "cell_type": "code",
   "execution_count": 5,
   "metadata": {},
   "outputs": [],
   "source": [
    "from waad.utils.anomalous_asset import ComputeAnomalousAssets\n",
    "from waad.utils.asset import Account, Asset, IP, Machine\n",
    "from waad.utils.fait_notable import ComputeFaitNotablesFromIndicators\n",
    "from waad.utils.indicators import Indicators, ComputeIndicators\n",
    "from waad.utils.postgreSQL_utils import Database, Table\n",
    "from waad.utils.rule import Link, Probability, Relation, Rule"
   ]
  },
  {
   "cell_type": "markdown",
   "metadata": {},
   "source": [
    "## 0. Initialisation de la base de données"
   ]
  },
  {
   "cell_type": "code",
   "execution_count": 6,
   "metadata": {},
   "outputs": [],
   "source": [
    "HOST = '127.0.0.1' \n",
    "PORT = '5432'\n",
    "USER = ''   # To fill\n",
    "PASSWORD = ''   # To fill\n",
    "DB_NAME = ''   # To fill\n",
    "TABLE_NAME = ''  # To fill"
   ]
  },
  {
   "cell_type": "code",
   "execution_count": 7,
   "metadata": {},
   "outputs": [],
   "source": [
    "db = Database(host=HOST, port=PORT, user=USER, password=PASSWORD, db_name=DB_NAME)\n",
    "table = Table(db, TABLE_NAME)"
   ]
  },
  {
   "cell_type": "markdown",
   "metadata": {},
   "source": [
    "## 1.1 Définition des règles permettant de compter les bons éléments dans les indicateurs"
   ]
  },
  {
   "cell_type": "markdown",
   "metadata": {},
   "source": [
    "Les règles sont des objects de la librairie qui définissent des relations entre 2 assets sous certaines conditions. Pour chaque ligne d'authentifications de l'asset source, on vérifie si la règle est appliquée. Elle l'est si l'une des `conditions` au moins est appliquée (`ou` logique). Les conditions sont définies sous la forme de dictionnaires avec une structure de ce type :\n",
    "\n",
    "```\n",
    "{\n",
    "    'pre_filters' : {'field_i': <possible values>, 'field_j': <possible values>},\n",
    "    'filter_function': <function(row) -> bool>,\n",
    "    'asset_1': <function(row) -> Asset>,\n",
    "    'asset_2': <function(row) -> Asset>,\n",
    "}\n",
    "```\n",
    "\n",
    "Les conditions dans `pre_filters` et `filter_functions` sont des conditions `et`."
   ]
  },
  {
   "cell_type": "code",
   "execution_count": 8,
   "metadata": {},
   "outputs": [],
   "source": [
    "rule = Rule(\n",
    "    relation=Relation(link=Link.SE_CONNECTE_SUR, probability=Probability.CERTAIN),\n",
    "    conditions=[\n",
    "        {\n",
    "            'pre_filters': {'eventid': 4624},\n",
    "            'filter_function': lambda row: row['targetusersid'].startswith('S-1-5-21-') and row['host'] != '?',\n",
    "            'asset_1': lambda row: Account(sid=row['targetusersid']),\n",
    "            'asset_2': lambda row: Machine(name=row['host'].split('.')[0], domain=row['host'].split('.')[1]),\n",
    "        }\n",
    "    ]\n",
    ")"
   ]
  },
  {
   "cell_type": "markdown",
   "metadata": {},
   "source": [
    "## 1.2 Calcul des indicateurs à partir de la ``Rule``"
   ]
  },
  {
   "cell_type": "code",
   "execution_count": null,
   "metadata": {},
   "outputs": [],
   "source": [
    "start = time.time()\n",
    "ci = ComputeIndicators(table=table, rule=rule, indicator_objects=[Indicators.NB_AUTHENTICATIONS.value, Indicators.NB_ASSETS_REACHED.value, Indicators.NB_NEW_ASSETS_REACHED.value, Indicators.NB_PRIVILEGES_GRANTED.value])\n",
    "ci.run()\n",
    "print(time.time() - start)"
   ]
  },
  {
   "cell_type": "markdown",
   "metadata": {},
   "source": [
    "## 1.3 Calcul des FaitsNotables associés"
   ]
  },
  {
   "cell_type": "code",
   "execution_count": null,
   "metadata": {},
   "outputs": [],
   "source": [
    "cfnfi = ComputeFaitNotablesFromIndicators(ci.indicators)\n",
    "cfnfi.run()"
   ]
  },
  {
   "cell_type": "markdown",
   "metadata": {},
   "source": [
    "## 2. Calcul des AnomalousAssets"
   ]
  },
  {
   "cell_type": "markdown",
   "metadata": {},
   "source": [
    "Calcule et ordonne les AnomalousAssets à partir de tous les faits notables "
   ]
  },
  {
   "cell_type": "code",
   "execution_count": 11,
   "metadata": {},
   "outputs": [],
   "source": [
    "caa = ComputeAnomalousAssets(cfnfi.faits_notables)\n",
    "caa.run()"
   ]
  },
  {
   "cell_type": "code",
   "execution_count": null,
   "metadata": {},
   "outputs": [],
   "source": [
    "caa.get_summary().head(30)"
   ]
  },
  {
   "cell_type": "code",
   "execution_count": null,
   "metadata": {},
   "outputs": [],
   "source": [
    "for aa in caa.anomalous_assets[:6]:\n",
    "    aa.display()"
   ]
  },
  {
   "cell_type": "markdown",
   "metadata": {},
   "source": [
    "## Exemple d'inputs pour étudier les IPs privées (H1)"
   ]
  },
  {
   "cell_type": "code",
   "execution_count": 14,
   "metadata": {},
   "outputs": [],
   "source": [
    "rule = Rule(\n",
    "    relation=Relation(link=Link.SE_CONNECTE_SUR, probability=Probability.CERTAIN),\n",
    "    conditions=[\n",
    "        {\n",
    "            'pre_filters': {'eventid': 4624},\n",
    "            'filter_function': lambda row: row['ipaddress'] != '?' and row['host'] != '?',\n",
    "            'asset_1': lambda row: IP(row['ipaddress']),\n",
    "            'asset_2': lambda row: Machine(name=row['host'].split('.')[0], domain=row['host'].split('.')[1]),\n",
    "        }\n",
    "    ]\n",
    ")"
   ]
  },
  {
   "cell_type": "markdown",
   "metadata": {},
   "source": [
    "## Exemple d'inputs pour étudier les workstations (H2)"
   ]
  },
  {
   "cell_type": "code",
   "execution_count": 16,
   "metadata": {},
   "outputs": [],
   "source": [
    "rule = Rule(\n",
    "    relation=Relation(link=Link.SE_CONNECTE_SUR, probability=Probability.CERTAIN),\n",
    "    conditions=[\n",
    "        {\n",
    "            'pre_filters': {'eventid': 4624},\n",
    "            'filter_function': lambda row: row['workstationname'] != '?' and row['host'] != '?' and row['workstationname'] != row['host'],\n",
    "            'asset_1': lambda row: Machine(name=row['workstationname']),\n",
    "            'asset_2': lambda row: Machine(name=row['host'].split('.')[0], domain=row['host'].split('.')[1]),\n",
    "        },\n",
    "    ]\n",
    ")"
   ]
  },
  {
   "cell_type": "markdown",
   "metadata": {},
   "source": [
    "## Exemple d'inputs pour étudier les authentifications potentielles des comptes (H7)"
   ]
  },
  {
   "cell_type": "code",
   "execution_count": 18,
   "metadata": {},
   "outputs": [],
   "source": [
    "rule = Rule(\n",
    "    relation=Relation(link=Link.SE_CONNECTE_SUR, probability=Probability.PROBABLE),\n",
    "    conditions=[\n",
    "        {\n",
    "            'pre_filters': {'eventid': 4624},\n",
    "            'filter_function': lambda row: row['targetusersid'].startswith('S-1-5-21-') and row['host'] != '?',\n",
    "            'asset_1': lambda row: Account(sid=row['targetusersid']),\n",
    "            'asset_2': lambda row: Machine(name=row['host'].split('.')[0], domain=row['host'].split('.')[1]),\n",
    "        },\n",
    "        {\n",
    "            'pre_filters': {'eventid': 4672},\n",
    "            'filter_function': lambda row: row['subjectusersid'].startswith('S-1-5-21-') and row['host'] != '?',\n",
    "            'asset_1': lambda row: Account(sid=row['subjectusersid']),\n",
    "            'asset_2': lambda row: Machine(name=row['host'].split('.')[0], domain=row['host'].split('.')[1]),\n",
    "        }\n",
    "    ]\n",
    ")"
   ]
  }
 ],
 "metadata": {
  "kernelspec": {
   "display_name": "Python 3",
   "language": "python",
   "name": "python3"
  },
  "language_info": {
   "codemirror_mode": {
    "name": "ipython",
    "version": 3
   },
   "file_extension": ".py",
   "mimetype": "text/x-python",
   "name": "python",
   "nbconvert_exporter": "python",
   "pygments_lexer": "ipython3",
   "version": "3.8.5"
  }
 },
 "nbformat": 4,
 "nbformat_minor": 4
}
