{
 "cells": [
  {
   "cell_type": "code",
   "execution_count": 1,
   "metadata": {},
   "outputs": [],
   "source": [
    "%load_ext autoreload\n",
    "%autoreload 2"
   ]
  },
  {
   "cell_type": "code",
   "execution_count": 2,
   "metadata": {},
   "outputs": [],
   "source": [
    "import warnings\n",
    "warnings.filterwarnings('ignore')"
   ]
  },
  {
   "cell_type": "markdown",
   "metadata": {},
   "source": [
    "# Imports"
   ]
  },
  {
   "cell_type": "code",
   "execution_count": 3,
   "metadata": {},
   "outputs": [],
   "source": [
    "from waad.utils.constants import TupleAnalysisFields\n",
    "from waad.utils.data import Data\n",
    "from waad.utils.postgreSQL_utils import Database, Table\n",
    "from waad.utils.tuples_analyser import AnalystTuplesAnalyser"
   ]
  },
  {
   "cell_type": "markdown",
   "metadata": {},
   "source": [
    "### Load data"
   ]
  },
  {
   "cell_type": "code",
   "execution_count": 4,
   "metadata": {},
   "outputs": [],
   "source": [
    "HOST = '127.0.0.1'\n",
    "PORT = '5432'\n",
    "USER = '' #To fill\n",
    "PASSWORD = '' #To fill \n",
    "DB_NAME = '' #To fill\n",
    "TABLE_NAME = '' #To fill"
   ]
  },
  {
   "cell_type": "code",
   "execution_count": 5,
   "metadata": {},
   "outputs": [],
   "source": [
    "db = Database(HOST, PORT, USER, PASSWORD, DB_NAME)\n",
    "table = Table(db, TABLE_NAME)"
   ]
  },
  {
   "cell_type": "markdown",
   "metadata": {},
   "source": [
    "### Example"
   ]
  },
  {
   "cell_type": "code",
   "execution_count": 10,
   "metadata": {},
   "outputs": [],
   "source": [
    "ip = 'pub_123.123.123.123'\n",
    "# ip = 'priv_127.0.0.1'\n",
    "data = table.get_field_filtered_on_value('IpAddress', ip)"
   ]
  },
  {
   "cell_type": "markdown",
   "metadata": {},
   "source": [
    "### Compute TuplesAnalyser"
   ]
  },
  {
   "cell_type": "code",
   "execution_count": 11,
   "metadata": {},
   "outputs": [],
   "source": [
    "META_FIELDS = TupleAnalysisFields.FIRST_FIELDS_OF_INTERESTS.value\n",
    "Data.build_meta_fields(data, META_FIELDS)"
   ]
  },
  {
   "cell_type": "code",
   "execution_count": null,
   "metadata": {},
   "outputs": [],
   "source": [
    "ata = AnalystTuplesAnalyser(data)\n",
    "ata.run()\n",
    "if ata.candidate is not None:\n",
    "    print(ata.candidate.fields)\n",
    "    print()\n",
    "    ata.candidate.display_centered_summary()"
   ]
  },
  {
   "cell_type": "code",
   "execution_count": null,
   "metadata": {},
   "outputs": [],
   "source": [
    "filtered = Data.filter_dataframe_field_on_value(data, 'eventid', 4624)\n",
    "\n",
    "ata = AnalystTuplesAnalyser(filtered)\n",
    "ata.run()\n",
    "if ata.candidate is not None:\n",
    "    print(ata.candidate.fields)\n",
    "    print()\n",
    "    ata.candidate.display_centered_summary()"
   ]
  }
 ],
 "metadata": {
  "kernelspec": {
   "display_name": "Python 3",
   "language": "python",
   "name": "python3"
  },
  "language_info": {
   "codemirror_mode": {
    "name": "ipython",
    "version": 3
   },
   "file_extension": ".py",
   "mimetype": "text/x-python",
   "name": "python",
   "nbconvert_exporter": "python",
   "pygments_lexer": "ipython3",
   "version": "3.8.5"
  }
 },
 "nbformat": 4,
 "nbformat_minor": 4
}
