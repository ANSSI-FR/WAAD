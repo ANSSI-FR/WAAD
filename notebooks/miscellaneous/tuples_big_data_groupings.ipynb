{
 "cells": [
  {
   "cell_type": "code",
   "execution_count": 1,
   "metadata": {},
   "outputs": [],
   "source": [
    "%load_ext autoreload\n",
    "%autoreload 2"
   ]
  },
  {
   "cell_type": "code",
   "execution_count": 2,
   "metadata": {},
   "outputs": [],
   "source": [
    "import warnings\n",
    "warnings.filterwarnings('ignore')"
   ]
  },
  {
   "cell_type": "markdown",
   "metadata": {},
   "source": [
    "# Imports"
   ]
  },
  {
   "cell_type": "code",
   "execution_count": 3,
   "metadata": {},
   "outputs": [],
   "source": [
    "import math\n",
    "import matplotlib.pyplot as plt\n",
    "import numpy as np\n",
    "import pandas as pd\n",
    "import sys\n",
    "import time\n",
    "from tqdm import tqdm"
   ]
  },
  {
   "cell_type": "code",
   "execution_count": 4,
   "metadata": {},
   "outputs": [],
   "source": [
    "pd.set_option('display.max_columns', 500)\n",
    "pd.set_option('display.max_colwidth', 150)\n",
    "pd.set_option('display.max_rows', 500)"
   ]
  },
  {
   "cell_type": "code",
   "execution_count": 5,
   "metadata": {},
   "outputs": [],
   "source": [
    "from waad.utils.tuples_analyser import AnalystTuplesAnalyser\n",
    "from waad.utils.constants import TupleAnalysisFields\n",
    "from waad.utils.data import Data\n",
    "from waad.utils.combinations_utils import flatten\n",
    "from waad.utils.postgreSQL_utils import Database, Table\n",
    "from waad.utils.tuples_big_data import Cache, ComputeMutualInfoOnGivenLevel, ComputeMutualInfoScoreGroupings, ComputeScoreOnGivenLevel, ScoreGroupings"
   ]
  },
  {
   "cell_type": "code",
   "execution_count": 6,
   "metadata": {},
   "outputs": [],
   "source": [
    "from ad_tree.array_record import ArrayRecord\n",
    "from ad_tree.file_record import FileRecord\n",
    "from ad_tree.sparse_ADTree import ADNode\n",
    "from ad_tree.iterated_tree_contingency_table import ContingencyTable"
   ]
  },
  {
   "cell_type": "markdown",
   "metadata": {},
   "source": [
    "## Prepare database"
   ]
  },
  {
   "cell_type": "code",
   "execution_count": 7,
   "metadata": {},
   "outputs": [],
   "source": [
    "HOST = '127.0.0.1' \n",
    "PORT = '5432'\n",
    "USER = ''   # To fill\n",
    "PASSWORD = ''   # To fill\n",
    "DB_NAME = ''   # To fill\n",
    "TABLE_NAME = ''  # To fill"
   ]
  },
  {
   "cell_type": "code",
   "execution_count": 8,
   "metadata": {},
   "outputs": [],
   "source": [
    "db = Database(HOST, PORT, USER, PASSWORD, DB_NAME)\n",
    "table = Table(db, TABLE_NAME)"
   ]
  },
  {
   "cell_type": "code",
   "execution_count": 9,
   "metadata": {},
   "outputs": [],
   "source": [
    "# Comment and uncomment the meta_fields you want to use\n",
    "\n",
    "META_FIELDS = [('subjectusersid', 'subjectusername', 'subjectdomainname'),\n",
    " ('targetusersid', 'targetusername', 'targetdomainname'),\n",
    " ('targetservername', 'targetinfo'),\n",
    " ('failurereason', 'status', 'substatus'),\n",
    " 'logontype',\n",
    " 'eventid',\n",
    " 'ipaddress',\n",
    " 'logonprocessname',\n",
    " ('authenticationpackagename', 'lmpackagename'),\n",
    " 'workstationname',\n",
    " 'host']"
   ]
  },
  {
   "cell_type": "markdown",
   "metadata": {},
   "source": [
    "## Example of request"
   ]
  },
  {
   "cell_type": "code",
   "execution_count": 10,
   "metadata": {},
   "outputs": [],
   "source": [
    "number_lines = 1000000\n",
    "request = f\"SELECT {', '.join(['eventrecordid', 'systemtime'] + flatten(META_FIELDS))} FROM {table.table_name} WHERE eventid = 4624 FETCH FIRST {number_lines} ROWS ONLY;\"\n",
    "data = table.get_command(request)"
   ]
  },
  {
   "cell_type": "markdown",
   "metadata": {},
   "source": [
    "## Filtering bloc"
   ]
  },
  {
   "cell_type": "code",
   "execution_count": 11,
   "metadata": {},
   "outputs": [],
   "source": [
    "# data = Data.filter_dataframe_field_on_value(data, 'logontype', 3)"
   ]
  },
  {
   "cell_type": "markdown",
   "metadata": {},
   "source": [
    "## Pre-processing"
   ]
  },
  {
   "cell_type": "code",
   "execution_count": 12,
   "metadata": {},
   "outputs": [],
   "source": [
    "N = data.shape[0]"
   ]
  },
  {
   "cell_type": "markdown",
   "metadata": {},
   "source": [
    "**Build meta fields**"
   ]
  },
  {
   "cell_type": "code",
   "execution_count": 13,
   "metadata": {},
   "outputs": [],
   "source": [
    "Data.build_meta_fields(data, META_FIELDS)"
   ]
  },
  {
   "cell_type": "markdown",
   "metadata": {},
   "source": [
    "**Convert to categorical**\n",
    "\n",
    "If we have data to 'categorise', an additional dictionnary parameter is needed : \n",
    "\n",
    "```\n",
    "{\n",
    " 'trade_usd': [0, 100000, 1000000, 10000000, 100000000, 1000000000, 10000000000, 100000000000, 1000000000000, 10000000000000], \n",
    " 'weight_kg': [0, 100000, 1000000, 10000000, 100000000, 1000000000, 10000000000, 100000000000, 1000000000000, 10000000000000]\n",
    "}\n",
    "```\n",
    "It contains the different bins that we want to define on the columns to categorize."
   ]
  },
  {
   "cell_type": "code",
   "execution_count": 14,
   "metadata": {},
   "outputs": [],
   "source": [
    "converter = Data.set_as_categorical(data, META_FIELDS, additional_info={})"
   ]
  },
  {
   "cell_type": "markdown",
   "metadata": {},
   "source": [
    "**Get records table in categorial format**"
   ]
  },
  {
   "cell_type": "code",
   "execution_count": 15,
   "metadata": {},
   "outputs": [],
   "source": [
    "records_table = np.transpose([data[field].cat.codes for field in META_FIELDS]).tolist()"
   ]
  },
  {
   "cell_type": "markdown",
   "metadata": {},
   "source": [
    "**Get arity list**"
   ]
  },
  {
   "cell_type": "code",
   "execution_count": 16,
   "metadata": {},
   "outputs": [],
   "source": [
    "arity_list = [len(dict(enumerate(data[f].cat.categories))) for f in META_FIELDS]"
   ]
  },
  {
   "cell_type": "markdown",
   "metadata": {},
   "source": [
    "## Building ADTree"
   ]
  },
  {
   "cell_type": "code",
   "execution_count": null,
   "metadata": {},
   "outputs": [],
   "source": [
    "start = time.time()\n",
    "\n",
    "array_record = ArrayRecord(arity_list, records_table)\n",
    "\n",
    "# build an AD-Tree with attribute list starts from the first attribute and for all the records\n",
    "adtree = ADNode(1, record_nums=list(range(1, array_record.records_length + 1)), array_record=array_record)\n",
    "\n",
    "print(time.time() - start)"
   ]
  },
  {
   "cell_type": "markdown",
   "metadata": {},
   "source": [
    "## Build cache"
   ]
  },
  {
   "cell_type": "code",
   "execution_count": 18,
   "metadata": {},
   "outputs": [],
   "source": [
    "MAX_LEVEL = 4"
   ]
  },
  {
   "cell_type": "code",
   "execution_count": null,
   "metadata": {},
   "outputs": [],
   "source": [
    "cache = Cache(adtree, META_FIELDS, MAX_LEVEL)\n",
    "cache.run()"
   ]
  },
  {
   "cell_type": "markdown",
   "metadata": {},
   "source": [
    "# Manual Pipeline"
   ]
  },
  {
   "cell_type": "markdown",
   "metadata": {},
   "source": [
    "A first solution is to execute the pipeline step by step manually, to tune the parameter `mu` on each level."
   ]
  },
  {
   "cell_type": "markdown",
   "metadata": {},
   "source": [
    "## Compute mutual information"
   ]
  },
  {
   "cell_type": "code",
   "execution_count": null,
   "metadata": {},
   "outputs": [],
   "source": [
    "CMIOGL = {}\n",
    "\n",
    "for level in range(2, MAX_LEVEL + 1):\n",
    "    cmiogl = ComputeMutualInfoOnGivenLevel(cache, level)\n",
    "    cmiogl.run()\n",
    "    cmiogl.plot_mutual_info()\n",
    "    CMIOGL[level] = cmiogl"
   ]
  },
  {
   "cell_type": "code",
   "execution_count": 21,
   "metadata": {},
   "outputs": [],
   "source": [
    "MU = {}\n",
    "\n",
    "MU[2] = 0.1\n",
    "MU[3] = 0.1\n",
    "MU[4] = 0.1\n",
    "# MU[5] = 0.1"
   ]
  },
  {
   "cell_type": "code",
   "execution_count": 22,
   "metadata": {},
   "outputs": [],
   "source": [
    "PAIRINGS_TO_KEEP = {}\n",
    "\n",
    "for level in range(2, MAX_LEVEL + 1):\n",
    "    PAIRINGS_TO_KEEP[level] = CMIOGL[level].get_pairings_to_keep(MU[level])"
   ]
  },
  {
   "cell_type": "markdown",
   "metadata": {},
   "source": [
    "## Scores computation "
   ]
  },
  {
   "cell_type": "code",
   "execution_count": 23,
   "metadata": {},
   "outputs": [],
   "source": [
    "T_ALPHA = 20"
   ]
  },
  {
   "cell_type": "code",
   "execution_count": 24,
   "metadata": {},
   "outputs": [],
   "source": [
    "CSOGL = {}\n",
    "\n",
    "for level in range(2, MAX_LEVEL + 1):\n",
    "    csogl = ComputeScoreOnGivenLevel(cache, level, T_ALPHA, PAIRINGS_TO_KEEP[level])\n",
    "    csogl.run()\n",
    "    CSOGL[level] = csogl "
   ]
  },
  {
   "cell_type": "markdown",
   "metadata": {},
   "source": [
    "## ScoreGrouping"
   ]
  },
  {
   "cell_type": "code",
   "execution_count": null,
   "metadata": {},
   "outputs": [],
   "source": [
    "FIRSTS_N = 10\n",
    "\n",
    "sg = ScoreGroupings(CSOGL, max_level=4, firsts_n=FIRSTS_N, converter=converter)\n",
    "sg.run()\n",
    "\n",
    "for index, score_group in enumerate(sg.score_groupings):\n",
    "    print(f'ScoreGroup index : {index}')\n",
    "    score_group.display()"
   ]
  },
  {
   "cell_type": "code",
   "execution_count": 26,
   "metadata": {},
   "outputs": [],
   "source": [
    "ComputeMutualInfoScoreGroupings.save_static(\n",
    "        path='./save.json', \n",
    "        table_name=table.table_name, \n",
    "        psql_request=request, \n",
    "        meta_fields=META_FIELDS, \n",
    "        t_alpha=T_ALPHA,\n",
    "        mus=list(MU.values()),\n",
    "        firsts_n=FIRSTS_N,\n",
    "        csogls=CSOGL,\n",
    "        score_groups=sg,\n",
    "        converter=converter\n",
    "    )"
   ]
  },
  {
   "cell_type": "code",
   "execution_count": null,
   "metadata": {},
   "outputs": [],
   "source": [
    "ComputeMutualInfoScoreGroupings.display_from_json('./save.json')"
   ]
  },
  {
   "cell_type": "markdown",
   "metadata": {},
   "source": [
    "### Additional qualification"
   ]
  },
  {
   "cell_type": "markdown",
   "metadata": {},
   "source": [
    "#### Most frequent subpairings"
   ]
  },
  {
   "cell_type": "markdown",
   "metadata": {},
   "source": [
    "csogl.display_most_frequents_subpairings() can take as an input either the index of the score (corresponds to the ranking of the score among other tuples of same size) we want to study or directly the correponding object `Score`.\n",
    "\n",
    "Ex:\n",
    "* CSOGL[2].display_most_frequents_subpairings(score=sg.score_groupings[0].score_group[0], firsts_n=10, converter=converter)\n",
    "* CSOGL[2].display_most_frequents_subpairings(index_number=0, firsts_n=10, converter=converter) car au sein de son niveau, le tuple est au rang 0\n",
    "\n",
    "/!\\ Be careful to input the desired level in CSOGL => see following block"
   ]
  },
  {
   "cell_type": "code",
   "execution_count": 28,
   "metadata": {},
   "outputs": [],
   "source": [
    "score = sg.score_groupings[0].score_group[0]\n",
    "level = len(score.A_a) + len(score.B_b)"
   ]
  },
  {
   "cell_type": "code",
   "execution_count": null,
   "metadata": {},
   "outputs": [],
   "source": [
    "CSOGL[level].display_most_frequents_subpairings(score=score, firsts_n=10, converter=converter)"
   ]
  },
  {
   "cell_type": "markdown",
   "metadata": {},
   "source": [
    "#### AnalystTuplesAnalyser"
   ]
  },
  {
   "cell_type": "markdown",
   "metadata": {},
   "source": [
    "In the same way csogl.get_corresponding_authentications() can take as an input either the corresponding index or directly the object `Score` :\n",
    "\n",
    "* CSOGL[2].get_corresponding_authentications(data, index_number=0, converter=converter)\n",
    "* CSOGL[2].get_corresponding_authentications(data, score=sg.score_groupings[0].score_group[0], converter=converter)\n",
    "\n",
    "/!\\ Attention à bien mettre le niveau considéré dans CSOGL => le calcul est automatisé avec level, 2 cases au-dessus"
   ]
  },
  {
   "cell_type": "code",
   "execution_count": 30,
   "metadata": {},
   "outputs": [],
   "source": [
    "corresponding_authentications = CSOGL[level].get_corresponding_authentications(data, score=score, converter=converter)"
   ]
  },
  {
   "cell_type": "code",
   "execution_count": null,
   "metadata": {},
   "outputs": [],
   "source": [
    "ata = AnalystTuplesAnalyser(corresponding_authentications, exploratory_fields=META_FIELDS)\n",
    "ata.run()\n",
    "if ata.candidate is not None:\n",
    "    ata.candidate.display_centered_summary()\n",
    "else:\n",
    "    print(\"No candidate found with AnalystTuplesAnalyser for those parameters\")"
   ]
  },
  {
   "cell_type": "markdown",
   "metadata": {},
   "source": [
    "# Automatic Pipeline"
   ]
  },
  {
   "cell_type": "markdown",
   "metadata": {},
   "source": [
    "The other solution is to run every step in an automatic way by inputing all parameters at the beginning of the pipeline."
   ]
  },
  {
   "cell_type": "code",
   "execution_count": null,
   "metadata": {},
   "outputs": [],
   "source": [
    "cmisg = ComputeMutualInfoScoreGroupings(max_level=4, cache=cache, mu=0.1, t_alpha=20, firsts_n=10, converter=converter)\n",
    "cmisg.run()\n",
    "\n",
    "for index, score_group in enumerate(cmisg.sg.score_groupings):\n",
    "    print(f'ScoreGroup index : {index}')\n",
    "    score_group.display()"
   ]
  },
  {
   "cell_type": "code",
   "execution_count": 33,
   "metadata": {},
   "outputs": [],
   "source": [
    "cmisg.save(path='./save.json', table_name=table.table_name, meta_fields=META_FIELDS, psql_request=request)"
   ]
  },
  {
   "cell_type": "code",
   "execution_count": null,
   "metadata": {},
   "outputs": [],
   "source": [
    "ComputeMutualInfoScoreGroupings.display_from_json('./save.json')"
   ]
  },
  {
   "cell_type": "markdown",
   "metadata": {},
   "source": [
    "### Additional qualification"
   ]
  },
  {
   "cell_type": "markdown",
   "metadata": {},
   "source": [
    "#### Most frequent subpairings"
   ]
  },
  {
   "cell_type": "code",
   "execution_count": null,
   "metadata": {},
   "outputs": [],
   "source": [
    "cmisg.display_most_frequents_subpairings(score=cmisg.sg.score_groupings[0].score_group[0], firsts_n=10, converter=converter)"
   ]
  },
  {
   "cell_type": "markdown",
   "metadata": {},
   "source": [
    "#### AnalystTuplesAnalyser"
   ]
  },
  {
   "cell_type": "code",
   "execution_count": 36,
   "metadata": {},
   "outputs": [],
   "source": [
    "corresponding_authentications = cmisg.get_corresponding_authentications(data, score=cmisg.sg.score_groupings[0].score_group[0], converter=converter)"
   ]
  },
  {
   "cell_type": "code",
   "execution_count": null,
   "metadata": {},
   "outputs": [],
   "source": [
    "ata = AnalystTuplesAnalyser(corresponding_authentications, exploratory_fields=META_FIELDS)\n",
    "ata.run()\n",
    "if ata.candidate is not None:\n",
    "    ata.candidate.display_centered_summary()\n",
    "else:\n",
    "    print(\"No candidate found with AnalystTuplesAnalyser for those parameters\")"
   ]
  }
 ],
 "metadata": {
  "kernelspec": {
   "display_name": "Python 3",
   "language": "python",
   "name": "python3"
  },
  "language_info": {
   "codemirror_mode": {
    "name": "ipython",
    "version": 3
   },
   "file_extension": ".py",
   "mimetype": "text/x-python",
   "name": "python",
   "nbconvert_exporter": "python",
   "pygments_lexer": "ipython3",
   "version": "3.8.5"
  }
 },
 "nbformat": 4,
 "nbformat_minor": 4
}
