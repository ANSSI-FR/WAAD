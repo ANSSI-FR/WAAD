{
 "cells": [
  {
   "cell_type": "code",
   "execution_count": 1,
   "metadata": {},
   "outputs": [
    {
     "name": "stdout",
     "output_type": "stream",
     "text": [
      "Using matplotlib backend: agg\n"
     ]
    }
   ],
   "source": [
    "%load_ext autoreload\n",
    "%autoreload 2\n",
    "%matplotlib"
   ]
  },
  {
   "cell_type": "code",
   "execution_count": 2,
   "metadata": {},
   "outputs": [],
   "source": [
    "import warnings\n",
    "warnings.filterwarnings('ignore')"
   ]
  },
  {
   "cell_type": "markdown",
   "metadata": {},
   "source": [
    "# Imports"
   ]
  },
  {
   "cell_type": "code",
   "execution_count": 3,
   "metadata": {},
   "outputs": [],
   "source": [
    "import time\n",
    "from tqdm import tqdm"
   ]
  },
  {
   "cell_type": "code",
   "execution_count": 4,
   "metadata": {},
   "outputs": [],
   "source": [
    "from waad.utils.clustering import PerDomainAssetClustering\n",
    "from waad.heuristics.H3.select_valid_accounts import SelectValidAccounts, FilterOnSID\n",
    "\n",
    "\n",
    "from waad.utils.asset import Account, Machine\n",
    "from waad.utils.anomalous_asset import ComputeAnomalousAssets\n",
    "from waad.utils.fait_notable import ComputeFaitNotablesFromIndicators\n",
    "from waad.utils.indicators import ComputeIndicators, Indicators\n",
    "from waad.utils.postgreSQL_utils import Database, Table\n",
    "from waad.utils.rule import Link, Probability, Relation, Rule"
   ]
  },
  {
   "cell_type": "markdown",
   "metadata": {},
   "source": [
    "# Pipeline"
   ]
  },
  {
   "cell_type": "markdown",
   "metadata": {},
   "source": [
    "### Retrieve accounts from the dataset"
   ]
  },
  {
   "cell_type": "code",
   "execution_count": 5,
   "metadata": {},
   "outputs": [],
   "source": [
    "HOST = '127.0.0.1'\n",
    "PORT = '5432'\n",
    "USER = '' #To fill\n",
    "PASSWORD = '' #To fill \n",
    "DB_NAME = '' #To fill\n",
    "TABLE_NAME = '' #To fill"
   ]
  },
  {
   "cell_type": "code",
   "execution_count": 6,
   "metadata": {},
   "outputs": [],
   "source": [
    "db = Database(host=HOST, port=PORT, user=USER, password=PASSWORD, db_name=DB_NAME)\n",
    "table = Table(db, TABLE_NAME)"
   ]
  },
  {
   "cell_type": "markdown",
   "metadata": {},
   "source": [
    "### 0.1"
   ]
  },
  {
   "cell_type": "code",
   "execution_count": 7,
   "metadata": {},
   "outputs": [],
   "source": [
    "data = table.get_command(f\"SELECT DISTINCT eventid, subjectusersid, subjectdomainname, subjectusername, targetusersid, targetdomainname, targetusername FROM {table.table_name}\")"
   ]
  },
  {
   "cell_type": "markdown",
   "metadata": {},
   "source": [
    "### 0.2"
   ]
  },
  {
   "cell_type": "code",
   "execution_count": 8,
   "metadata": {},
   "outputs": [],
   "source": [
    "sva = SelectValidAccounts(data)\n",
    "sva.run()\n",
    "valid_accounts = sva.valid_accounts"
   ]
  },
  {
   "cell_type": "code",
   "execution_count": 9,
   "metadata": {},
   "outputs": [],
   "source": [
    "spva = SelectValidAccounts(data, target_eventid_filter=(4624, 4634, 4648))\n",
    "spva.run()\n",
    "potentially_valid_accounts = spva.valid_accounts"
   ]
  },
  {
   "cell_type": "markdown",
   "metadata": {},
   "source": [
    "### 0.3"
   ]
  },
  {
   "cell_type": "code",
   "execution_count": 10,
   "metadata": {},
   "outputs": [],
   "source": [
    "fosid = FilterOnSID(valid_accounts)\n",
    "fosid.run()\n",
    "non_standard_valid_accounts = fosid.non_standard_accounts"
   ]
  },
  {
   "cell_type": "markdown",
   "metadata": {},
   "source": [
    "### 1.1.1"
   ]
  },
  {
   "cell_type": "code",
   "execution_count": 11,
   "metadata": {},
   "outputs": [],
   "source": [
    "rule = Rule(\n",
    "    relation=Relation(link=Link.SE_CONNECTE_SUR, probability=Probability.PROBABLE),\n",
    "    conditions=[\n",
    "        {\n",
    "            'pre_filters': {'eventid': [4624, 4634, 4648]},\n",
    "            'filter_function': lambda row: row['targetusersid'].startswith('S-1-5-21-') and row['host'] != '?',\n",
    "            'asset_1': lambda row: Account(sid=row['targetusersid']),\n",
    "            'asset_2': lambda row: Machine(name=row['host'].split('.')[0], domain=row['host'].split('.')[1]),\n",
    "        },\n",
    "        {\n",
    "            'pre_filters': {'eventid': 4672},\n",
    "            'filter_function': lambda row: row['subjectusersid'].startswith('S-1-5-21-') and row['host'] != '?',\n",
    "            'asset_1': lambda row: Account(sid=row['subjectusersid']),\n",
    "            'asset_2': lambda row: Machine(name=row['host'].split('.')[0], domain=row['host'].split('.')[1]),\n",
    "        }\n",
    "    ]\n",
    ")"
   ]
  },
  {
   "cell_type": "code",
   "execution_count": null,
   "metadata": {},
   "outputs": [],
   "source": [
    "start = time.time()\n",
    "ci = ComputeIndicators(table=table, rule=rule, indicator_objects=[Indicators.NB_AUTHENTICATIONS.value, Indicators.NB_ASSETS_REACHED.value, Indicators.NB_NEW_ASSETS_REACHED.value, Indicators.NB_PRIVILEGES_GRANTED.value])\n",
    "ci.run()\n",
    "print(time.time() - start)"
   ]
  },
  {
   "cell_type": "markdown",
   "metadata": {},
   "source": [
    "### 1.1.2"
   ]
  },
  {
   "cell_type": "code",
   "execution_count": null,
   "metadata": {},
   "outputs": [],
   "source": [
    "cfnfi = ComputeFaitNotablesFromIndicators(ci.indicators)\n",
    "cfnfi.run()"
   ]
  },
  {
   "cell_type": "markdown",
   "metadata": {},
   "source": [
    "### 2.1"
   ]
  },
  {
   "cell_type": "code",
   "execution_count": 14,
   "metadata": {},
   "outputs": [],
   "source": [
    "caa = ComputeAnomalousAssets(cfnfi.faits_notables)\n",
    "caa.run()"
   ]
  },
  {
   "cell_type": "code",
   "execution_count": null,
   "metadata": {},
   "outputs": [],
   "source": [
    "caa.get_summary().head(30)"
   ]
  },
  {
   "cell_type": "code",
   "execution_count": null,
   "metadata": {},
   "outputs": [],
   "source": [
    "for aa in caa.anomalous_assets[:10]:\n",
    "    aa.display()"
   ]
  },
  {
   "cell_type": "markdown",
   "metadata": {},
   "source": [
    "### 2.2"
   ]
  },
  {
   "cell_type": "markdown",
   "metadata": {},
   "source": [
    "Mapping per domain of the usernames of all potentially valid accounts "
   ]
  },
  {
   "cell_type": "code",
   "execution_count": null,
   "metadata": {},
   "outputs": [],
   "source": [
    "pdac_potentially_valid = PerDomainAssetClustering([account for account in potentially_valid_accounts if not account.name.endswith('$')])\n",
    "pdac_potentially_valid.run()\n",
    "pdac_potentially_valid.plot_clusters(firsts_n=5);"
   ]
  },
  {
   "cell_type": "markdown",
   "metadata": {},
   "source": [
    "**SubjectUserName / TargetUserName / TargetOutboundUserName**\n",
    "* if format is XYZ$ then XYZ is a MachineName\n",
    "* if format is ABC/XYZ then ABC is a DomainName and XYZ is a Username\n",
    "* if format is ABC@XYZ then ABC is a Username and XYZ is a DomainName\n",
    "* else it is a Username"
   ]
  }
 ],
 "metadata": {
  "kernelspec": {
   "display_name": "Python 3",
   "language": "python",
   "name": "python3"
  },
  "language_info": {
   "codemirror_mode": {
    "name": "ipython",
    "version": 3
   },
   "file_extension": ".py",
   "mimetype": "text/x-python",
   "name": "python",
   "nbconvert_exporter": "python",
   "pygments_lexer": "ipython3",
   "version": "3.8.5"
  }
 },
 "nbformat": 4,
 "nbformat_minor": 4
}
