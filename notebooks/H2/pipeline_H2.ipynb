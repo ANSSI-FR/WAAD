{
 "cells": [
  {
   "cell_type": "code",
   "execution_count": 1,
   "metadata": {},
   "outputs": [
    {
     "name": "stdout",
     "output_type": "stream",
     "text": [
      "Using matplotlib backend: agg\n"
     ]
    }
   ],
   "source": [
    "%load_ext autoreload\n",
    "%autoreload 2\n",
    "%matplotlib"
   ]
  },
  {
   "cell_type": "code",
   "execution_count": 2,
   "metadata": {},
   "outputs": [],
   "source": [
    "import warnings\n",
    "warnings.filterwarnings('ignore')"
   ]
  },
  {
   "cell_type": "markdown",
   "metadata": {},
   "source": [
    "# Imports"
   ]
  },
  {
   "cell_type": "code",
   "execution_count": 3,
   "metadata": {},
   "outputs": [],
   "source": [
    "import time"
   ]
  },
  {
   "cell_type": "code",
   "execution_count": 4,
   "metadata": {},
   "outputs": [],
   "source": [
    "from waad.heuristics.H2.machines_clustering import H2SpecificClustering\n",
    "from waad.heuristics.H2.machines_processing import MachinesProcessing\n",
    "\n",
    "from waad.utils.anomalous_asset import ComputeAnomalousAssets\n",
    "from waad.utils.asset import Machine\n",
    "from waad.utils.clustering import LongestCommonSubstringClustering, PerDomainAssetClustering\n",
    "from waad.utils.fait_notable import ComputeFaitNotablesFromH2SpecificClustering, ComputeFaitNotablesFromIndicators\n",
    "from waad.utils.indicators import ComputeIndicators, Indicators\n",
    "from waad.utils.rule import Link, Probability, Relation, Rule\n",
    "from waad.utils.postgreSQL_utils import Database, Table"
   ]
  },
  {
   "cell_type": "markdown",
   "metadata": {},
   "source": [
    "### Variables"
   ]
  },
  {
   "cell_type": "code",
   "execution_count": 5,
   "metadata": {},
   "outputs": [],
   "source": [
    "faits_notables = []"
   ]
  },
  {
   "cell_type": "markdown",
   "metadata": {},
   "source": [
    "### 0.1. Load machine names"
   ]
  },
  {
   "cell_type": "code",
   "execution_count": 6,
   "metadata": {},
   "outputs": [],
   "source": [
    "HOST = '127.0.0.1' \n",
    "PORT = '5432'\n",
    "USER = ''   # To fill\n",
    "PASSWORD = ''   # To fill\n",
    "DB_NAME = ''   # To fill\n",
    "TABLE_NAME = ''  # To fill"
   ]
  },
  {
   "cell_type": "code",
   "execution_count": 7,
   "metadata": {},
   "outputs": [],
   "source": [
    "db = Database(host=HOST, port=PORT, user=USER, password=PASSWORD, db_name=DB_NAME)\n",
    "table = Table(db, table_name=TABLE_NAME)"
   ]
  },
  {
   "cell_type": "code",
   "execution_count": 8,
   "metadata": {},
   "outputs": [],
   "source": [
    "lwh = table.get_command(f\"SELECT DISTINCT logontype, workstationname, host FROM {table.table_name} WHERE logontype is not NULL and workstationname <> '';\")"
   ]
  },
  {
   "cell_type": "code",
   "execution_count": 9,
   "metadata": {},
   "outputs": [],
   "source": [
    "mp = MachinesProcessing(workstationname=set(lwh['workstationname'].values), host=set(lwh['host'].values))\n",
    "mp.run()"
   ]
  },
  {
   "cell_type": "markdown",
   "metadata": {},
   "source": [
    "### 1.1"
   ]
  },
  {
   "cell_type": "code",
   "execution_count": 10,
   "metadata": {},
   "outputs": [],
   "source": [
    "rule = Rule(\n",
    "    relation=Relation(link=Link.SE_CONNECTE_SUR, probability=Probability.CERTAIN),\n",
    "    conditions=[\n",
    "        {\n",
    "            'pre_filters': {'eventid': 4624},\n",
    "            'filter_function': lambda row: row['workstationname'] != '?' and row['host'] != '?' and row['workstationname'] != row['host'],\n",
    "            'asset_1': lambda row: Machine(name=row['workstationname']),\n",
    "            'asset_2': lambda row: Machine(name=row['host'].split('.')[0], domain=row['host'].split('.')[1]),\n",
    "        },\n",
    "    ]\n",
    ")"
   ]
  },
  {
   "cell_type": "code",
   "execution_count": null,
   "metadata": {},
   "outputs": [],
   "source": [
    "start = time.time()\n",
    "ci = ComputeIndicators(table=table, rule=rule, indicator_objects=[Indicators.NB_AUTHENTICATIONS.value, Indicators.NB_ASSETS_REACHED.value, Indicators.NB_NEW_ASSETS_REACHED.value])\n",
    "ci.run()\n",
    "print(time.time() - start)"
   ]
  },
  {
   "cell_type": "markdown",
   "metadata": {},
   "source": [
    "### 1.1.2"
   ]
  },
  {
   "cell_type": "markdown",
   "metadata": {},
   "source": [
    "Look for anomalous machines"
   ]
  },
  {
   "cell_type": "code",
   "execution_count": null,
   "metadata": {},
   "outputs": [],
   "source": [
    "cfnfi = ComputeFaitNotablesFromIndicators(ci.indicators)\n",
    "cfnfi.run()\n",
    "faits_notables.extend(cfnfi.faits_notables)"
   ]
  },
  {
   "cell_type": "markdown",
   "metadata": {},
   "source": [
    "### 1.2.1"
   ]
  },
  {
   "cell_type": "code",
   "execution_count": null,
   "metadata": {},
   "outputs": [],
   "source": [
    "ac = LongestCommonSubstringClustering(list(set().union([m.name for m in mp.workstations], [m.name for m in mp.hosts])))\n",
    "ac.run()\n",
    "ac.plot_clusters()"
   ]
  },
  {
   "cell_type": "code",
   "execution_count": null,
   "metadata": {},
   "outputs": [],
   "source": [
    "pdac = PerDomainAssetClustering(list(set().union(mp.workstations, mp.hosts)))\n",
    "res = pdac.run()"
   ]
  },
  {
   "cell_type": "code",
   "execution_count": null,
   "metadata": {},
   "outputs": [],
   "source": [
    "pdac.get_domains_summary()"
   ]
  },
  {
   "cell_type": "code",
   "execution_count": null,
   "metadata": {},
   "outputs": [],
   "source": [
    "pdac.plot_clusters(firsts_n = 3)"
   ]
  },
  {
   "cell_type": "markdown",
   "metadata": {},
   "source": [
    "### 1.2.2"
   ]
  },
  {
   "cell_type": "code",
   "execution_count": null,
   "metadata": {},
   "outputs": [],
   "source": [
    "h2sc = H2SpecificClustering(lwh[['logontype', 'workstationname']], mp.workstations, mp.hosts)\n",
    "h2sc.run()\n",
    "h2sc.plot_clusters()"
   ]
  },
  {
   "cell_type": "markdown",
   "metadata": {},
   "source": [
    "### 1.2.3"
   ]
  },
  {
   "cell_type": "code",
   "execution_count": 18,
   "metadata": {},
   "outputs": [],
   "source": [
    "cfnfh2sc = ComputeFaitNotablesFromH2SpecificClustering(h2sc.clusters, table)\n",
    "cfnfh2sc.run()\n",
    "faits_notables.extend(cfnfh2sc.faits_notables)"
   ]
  },
  {
   "cell_type": "markdown",
   "metadata": {},
   "source": [
    "# 2"
   ]
  },
  {
   "cell_type": "code",
   "execution_count": 19,
   "metadata": {},
   "outputs": [],
   "source": [
    "caa = ComputeAnomalousAssets(faits_notables)\n",
    "caa.run()"
   ]
  },
  {
   "cell_type": "code",
   "execution_count": null,
   "metadata": {},
   "outputs": [],
   "source": [
    "caa.get_summary().head(20)"
   ]
  },
  {
   "cell_type": "code",
   "execution_count": null,
   "metadata": {},
   "outputs": [],
   "source": [
    "for aa in caa.anomalous_assets[:4]:\n",
    "    aa.display();"
   ]
  }
 ],
 "metadata": {
  "kernelspec": {
   "display_name": "Python 3",
   "language": "python",
   "name": "python3"
  },
  "language_info": {
   "codemirror_mode": {
    "name": "ipython",
    "version": 3
   },
   "file_extension": ".py",
   "mimetype": "text/x-python",
   "name": "python",
   "nbconvert_exporter": "python",
   "pygments_lexer": "ipython3",
   "version": "3.8.5"
  }
 },
 "nbformat": 4,
 "nbformat_minor": 4
}
